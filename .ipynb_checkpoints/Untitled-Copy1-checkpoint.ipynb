{
 "cells": [
  {
   "cell_type": "code",
   "execution_count": 13,
   "id": "6f3d78bd",
   "metadata": {},
   "outputs": [
    {
     "name": "stdout",
     "output_type": "stream",
     "text": [
      "Enter first subject number : 95\n",
      "Enter second subject number : 95\n",
      "Enter third subject number : 95\n",
      "Grade : A+\n"
     ]
    }
   ],
   "source": [
    "# marksheet\n",
    "first_sub = int(input('Enter first subject number : '))\n",
    "second_sub = int(input('Enter second subject number : '))\n",
    "third_sub = int(input('Enter third subject number : '))\n",
    "total = first_sub+second_sub+third_sub\n",
    "percentage = total/300*100\n",
    "if percentage>90:\n",
    "    print('Grade : A+')\n",
    "elif percentage>70:\n",
    "    print('Grade : A')\n",
    "elif percentage>60:\n",
    "    print('Grade : B')\n",
    "elif percentage>=50:\n",
    "    print('Grade : C')\n",
    "elif percentage<50:\n",
    "    print('Grade : D')\n",
    "        "
   ]
  }
 ],
 "metadata": {
  "kernelspec": {
   "display_name": "Python 3",
   "language": "python",
   "name": "python3"
  },
  "language_info": {
   "codemirror_mode": {
    "name": "ipython",
    "version": 3
   },
   "file_extension": ".py",
   "mimetype": "text/x-python",
   "name": "python",
   "nbconvert_exporter": "python",
   "pygments_lexer": "ipython3",
   "version": "3.8.8"
  }
 },
 "nbformat": 4,
 "nbformat_minor": 5
}

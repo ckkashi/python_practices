{
 "cells": [
  {
   "cell_type": "code",
   "execution_count": 13,
   "id": "6de0c74f",
   "metadata": {},
   "outputs": [
    {
     "name": "stdout",
     "output_type": "stream",
     "text": [
      "Enter first subject number : 95\n",
      "Enter second subject number : 95\n",
      "Enter third subject number : 95\n",
      "Grade : A+\n"
     ]
    }
   ],
   "source": [
    "#day1\n",
    "# marksheet\n",
    "first_sub = int(input('Enter first subject number : '))\n",
    "second_sub = int(input('Enter second subject number : '))\n",
    "third_sub = int(input('Enter third subject number : '))\n",
    "total = first_sub+second_sub+third_sub\n",
    "percentage = total/300*100\n",
    "if percentage>90:\n",
    "    print('Grade : A+')\n",
    "elif percentage>70:\n",
    "    print('Grade : A')\n",
    "elif percentage>60:\n",
    "    print('Grade : B')\n",
    "elif percentage>=50:\n",
    "    print('Grade : C')\n",
    "elif percentage<50:\n",
    "    print('Grade : D')"
   ]
  },
  {
   "cell_type": "code",
   "execution_count": 43,
   "id": "29fab36d",
   "metadata": {},
   "outputs": [
    {
     "name": "stdout",
     "output_type": "stream",
     "text": [
      "['kashif', 'ashhad', 'wasay']\n",
      "['kashif', 'ashhad', 'wasay', 'hunain']\n",
      "['awais', 'kashif', 'ashhad', 'wasay', 'hunain']\n",
      "['ashhad', 'awais', 'hunain', 'kashif', 'wasay']\n",
      "['awais', 'hunain', 'kashif', 'wasay']\n",
      "['hunain', 'kashif']\n"
     ]
    }
   ],
   "source": [
    "# day1\n",
    "#lists\n",
    "# creating list and print that\n",
    "my_list = ['kashif','ashhad','wasay']\n",
    "print(my_list)\n",
    "# appending one item to list and print\n",
    "my_list.append('hunain');\n",
    "print(my_list)\n",
    "# inserting one item to specific index in list and print\n",
    "my_list.insert(0,'awais');\n",
    "print(my_list)\n",
    "# sorting list \n",
    "my_list.sort()\n",
    "print(my_list)\n",
    "# pop single element from list\n",
    "my_list.pop(0)\n",
    "print(my_list)\n",
    "#slicing the list\n",
    "print(my_list[1:3])\n",
    "#slice"
   ]
  },
  {
   "cell_type": "code",
   "execution_count": null,
   "id": "09c82a67",
   "metadata": {},
   "outputs": [],
   "source": []
  }
 ],
 "metadata": {
  "kernelspec": {
   "display_name": "Python 3",
   "language": "python",
   "name": "python3"
  },
  "language_info": {
   "codemirror_mode": {
    "name": "ipython",
    "version": 3
   },
   "file_extension": ".py",
   "mimetype": "text/x-python",
   "name": "python",
   "nbconvert_exporter": "python",
   "pygments_lexer": "ipython3",
   "version": "3.8.8"
  }
 },
 "nbformat": 4,
 "nbformat_minor": 5
}
